{
 "cells": [
  {
   "cell_type": "code",
   "execution_count": 1,
   "metadata": {},
   "outputs": [],
   "source": [
    "# Import libraries\n",
    "import numpy as np\n",
    "import pandas as pd\n",
    "import os"
   ]
  },
  {
   "cell_type": "code",
   "execution_count": 2,
   "metadata": {},
   "outputs": [],
   "source": [
    "\n",
    "# Set a path to the data\n",
    "path = 'data/'\n",
    "extension = '.csv'"
   ]
  },
  {
   "cell_type": "code",
   "execution_count": 3,
   "metadata": {},
   "outputs": [
    {
     "name": "stdout",
     "output_type": "stream",
     "text": [
      "['task3-merged-apprenticeship-agreements.csv', 'task2-apprenticeship-agreements.csv', 'task4-parsed-apprenticeship-agreements.csv', 'task2-apprenticeship-agreements-with-merge_id.csv', 'contract-records.csv', 'task2-apprenticeship-agreements-sample.csv', 'task4-parsed-small.csv']\n"
     ]
    }
   ],
   "source": [
    "# Create the files\n",
    "files = [file for file in os.listdir(path) if file.endswith(extension)]\n",
    "print(files)"
   ]
  },
  {
   "cell_type": "code",
   "execution_count": 4,
   "metadata": {},
   "outputs": [
    {
     "data": {
      "text/html": [
       "<div>\n",
       "<style scoped>\n",
       "    .dataframe tbody tr th:only-of-type {\n",
       "        vertical-align: middle;\n",
       "    }\n",
       "\n",
       "    .dataframe tbody tr th {\n",
       "        vertical-align: top;\n",
       "    }\n",
       "\n",
       "    .dataframe thead th {\n",
       "        text-align: right;\n",
       "    }\n",
       "</style>\n",
       "<table border=\"1\" class=\"dataframe\">\n",
       "  <thead>\n",
       "    <tr style=\"text-align: right;\">\n",
       "      <th></th>\n",
       "      <th>project_id</th>\n",
       "      <th>category</th>\n",
       "      <th>sub_category</th>\n",
       "      <th>transcription_text</th>\n",
       "      <th>document_url</th>\n",
       "    </tr>\n",
       "  </thead>\n",
       "  <tbody>\n",
       "    <tr>\n",
       "      <th>0</th>\n",
       "      <td>11406</td>\n",
       "      <td>Contracts</td>\n",
       "      <td>Apprenticeship Agreement</td>\n",
       "      <td>Copy_x000D_\\n_x000D_\\nAgreement of Apprentices...</td>\n",
       "      <td>https://transcription.si.edu/transcribe/11406/...</td>\n",
       "    </tr>\n",
       "    <tr>\n",
       "      <th>1</th>\n",
       "      <td>11406</td>\n",
       "      <td>Contracts</td>\n",
       "      <td>Apprenticeship Agreement</td>\n",
       "      <td>[H 132 ENCL] _x000D_\\n_x000D_\\nCopy_x000D_\\n_x...</td>\n",
       "      <td>https://transcription.si.edu/transcribe/11406/...</td>\n",
       "    </tr>\n",
       "    <tr>\n",
       "      <th>2</th>\n",
       "      <td>11406</td>\n",
       "      <td>Contracts</td>\n",
       "      <td>Apprenticeship Agreement</td>\n",
       "      <td>is agreed on the part of the party of the firs...</td>\n",
       "      <td>https://transcription.si.edu/transcribe/11406/...</td>\n",
       "    </tr>\n",
       "    <tr>\n",
       "      <th>3</th>\n",
       "      <td>11406</td>\n",
       "      <td>Contracts</td>\n",
       "      <td>Apprenticeship Agreement</td>\n",
       "      <td>continuance of this agreement &amp; finally that t...</td>\n",
       "      <td>https://transcription.si.edu/transcribe/11406/...</td>\n",
       "    </tr>\n",
       "    <tr>\n",
       "      <th>4</th>\n",
       "      <td>15369</td>\n",
       "      <td>Contracts</td>\n",
       "      <td>Apprenticeship Agreement</td>\n",
       "      <td>[[preprinted]]_x000D_\\nBureau of Refugees, Fre...</td>\n",
       "      <td>https://transcription.si.edu/transcribe/15369/...</td>\n",
       "    </tr>\n",
       "  </tbody>\n",
       "</table>\n",
       "</div>"
      ],
      "text/plain": [
       "   project_id   category              sub_category  \\\n",
       "0       11406  Contracts  Apprenticeship Agreement   \n",
       "1       11406  Contracts  Apprenticeship Agreement   \n",
       "2       11406  Contracts  Apprenticeship Agreement   \n",
       "3       11406  Contracts  Apprenticeship Agreement   \n",
       "4       15369  Contracts  Apprenticeship Agreement   \n",
       "\n",
       "                                  transcription_text  \\\n",
       "0  Copy_x000D_\\n_x000D_\\nAgreement of Apprentices...   \n",
       "1  [H 132 ENCL] _x000D_\\n_x000D_\\nCopy_x000D_\\n_x...   \n",
       "2  is agreed on the part of the party of the firs...   \n",
       "3  continuance of this agreement & finally that t...   \n",
       "4  [[preprinted]]_x000D_\\nBureau of Refugees, Fre...   \n",
       "\n",
       "                                        document_url  \n",
       "0  https://transcription.si.edu/transcribe/11406/...  \n",
       "1  https://transcription.si.edu/transcribe/11406/...  \n",
       "2  https://transcription.si.edu/transcribe/11406/...  \n",
       "3  https://transcription.si.edu/transcribe/11406/...  \n",
       "4  https://transcription.si.edu/transcribe/15369/...  "
      ]
     },
     "execution_count": 4,
     "metadata": {},
     "output_type": "execute_result"
    }
   ],
   "source": [
    "df = pd.read_csv(path + files[4]) #'contract-records.csv'\n",
    "df.head()"
   ]
  },
  {
   "cell_type": "code",
   "execution_count": 5,
   "metadata": {},
   "outputs": [
    {
     "name": "stdout",
     "output_type": "stream",
     "text": [
      "Requirement already satisfied: openai in /opt/anaconda3/lib/python3.11/site-packages (1.14.2)\n",
      "Requirement already satisfied: anyio<5,>=3.5.0 in /opt/anaconda3/lib/python3.11/site-packages (from openai) (4.2.0)\n",
      "Requirement already satisfied: distro<2,>=1.7.0 in /opt/anaconda3/lib/python3.11/site-packages (from openai) (1.8.0)\n",
      "Requirement already satisfied: httpx<1,>=0.23.0 in /opt/anaconda3/lib/python3.11/site-packages (from openai) (0.25.2)\n",
      "Requirement already satisfied: pydantic<3,>=1.9.0 in /opt/anaconda3/lib/python3.11/site-packages (from openai) (1.10.12)\n",
      "Requirement already satisfied: sniffio in /opt/anaconda3/lib/python3.11/site-packages (from openai) (1.3.0)\n",
      "Requirement already satisfied: tqdm>4 in /opt/anaconda3/lib/python3.11/site-packages (from openai) (4.65.0)\n",
      "Requirement already satisfied: typing-extensions<5,>=4.7 in /opt/anaconda3/lib/python3.11/site-packages (from openai) (4.9.0)\n",
      "Requirement already satisfied: idna>=2.8 in /opt/anaconda3/lib/python3.11/site-packages (from anyio<5,>=3.5.0->openai) (3.4)\n",
      "Requirement already satisfied: certifi in /opt/anaconda3/lib/python3.11/site-packages (from httpx<1,>=0.23.0->openai) (2024.2.2)\n",
      "Requirement already satisfied: httpcore==1.* in /opt/anaconda3/lib/python3.11/site-packages (from httpx<1,>=0.23.0->openai) (1.0.4)\n",
      "Requirement already satisfied: h11<0.15,>=0.13 in /opt/anaconda3/lib/python3.11/site-packages (from httpcore==1.*->httpx<1,>=0.23.0->openai) (0.14.0)\n",
      "Note: you may need to restart the kernel to use updated packages.\n"
     ]
    }
   ],
   "source": [
    "pip install --upgrade openai"
   ]
  },
  {
   "cell_type": "code",
   "execution_count": 6,
   "metadata": {},
   "outputs": [],
   "source": [
    "from openai import OpenAI\n",
    "import Constants\n",
    "\n",
    "client = OpenAI(\n",
    "  api_key=Constants.API_KEY_OPENAI\n",
    ")"
   ]
  },
  {
   "cell_type": "code",
   "execution_count": 7,
   "metadata": {},
   "outputs": [
    {
     "name": "stdout",
     "output_type": "stream",
     "text": [
      "ChatCompletionMessage(content='Meet Dr. Iris Data, the brilliant data scientist with a penchant for historical analysis. Dr. Data spent her days lost in piles of ancient documents, deciphering patterns and trends that had long been forgotten. Armed with her trusty laptop and a never-ending supply of caffeine, she was determined to uncover hidden gems of knowledge buried within the dusty archives.\\n\\nOne fateful day, as Dr. Data poured over a stack of musty scrolls from the Middle Ages, she made a startling discovery. Hidden amidst the endless lists of taxes and tithes was a cryptic code that seemed to hold the key to a long-lost treasure.\\n\\nExcited by her find, Dr. Data enlisted the help of her trusty assistant, Byte, to decipher the code. Together, they spent days poring over the ancient text, unraveling its secrets and piecing together the puzzle it presented.\\n\\nFinally, after weeks of tireless effort, Dr. Data and Byte cracked the code. It led them to a hidden chamber deep within the bowels of the ancient library, where they found a treasure trove of rare artifacts and priceless relics.\\n\\nOverjoyed by their discovery, Dr. Data and Byte celebrated with a round of high-fives and victory dances. The data wizard had done it again, proving that sometimes, the greatest discoveries are found in the unlikeliest of places.\\n\\nAnd so, Dr. Iris Data cemented her place in history as the data scientist who unearthed a long-forgotten treasure, all thanks to her keen eye for detail and insatiable curiosity. And as she continued her quest for knowledge, she knew that the world was full of mysteries just waiting to be uncovered.', role='assistant', function_call=None, tool_calls=None)\n"
     ]
    }
   ],
   "source": [
    "completion = client.chat.completions.create(\n",
    "  model=\"gpt-3.5-turbo\",\n",
    "  messages=[\n",
    "    {\"role\": \"system\", \"content\": \"You are a creative genius, able to write short stories with a bunch of humor\"},\n",
    "    {\"role\": \"user\", \"content\": \"Create a fun short story about a data scientist that makes a huge discovery when analyzing historical documents\"}\n",
    "  ]\n",
    ")\n",
    "\n",
    "print(completion.choices[0].message)"
   ]
  },
  {
   "cell_type": "code",
   "execution_count": 8,
   "metadata": {},
   "outputs": [
    {
     "name": "stdout",
     "output_type": "stream",
     "text": [
      "Requirement already satisfied: ollama in /opt/anaconda3/lib/python3.11/site-packages (0.1.7)\n",
      "Requirement already satisfied: httpx<0.26.0,>=0.25.2 in /opt/anaconda3/lib/python3.11/site-packages (from ollama) (0.25.2)\n",
      "Requirement already satisfied: anyio in /opt/anaconda3/lib/python3.11/site-packages (from httpx<0.26.0,>=0.25.2->ollama) (4.2.0)\n",
      "Requirement already satisfied: certifi in /opt/anaconda3/lib/python3.11/site-packages (from httpx<0.26.0,>=0.25.2->ollama) (2024.2.2)\n",
      "Requirement already satisfied: httpcore==1.* in /opt/anaconda3/lib/python3.11/site-packages (from httpx<0.26.0,>=0.25.2->ollama) (1.0.4)\n",
      "Requirement already satisfied: idna in /opt/anaconda3/lib/python3.11/site-packages (from httpx<0.26.0,>=0.25.2->ollama) (3.4)\n",
      "Requirement already satisfied: sniffio in /opt/anaconda3/lib/python3.11/site-packages (from httpx<0.26.0,>=0.25.2->ollama) (1.3.0)\n",
      "Requirement already satisfied: h11<0.15,>=0.13 in /opt/anaconda3/lib/python3.11/site-packages (from httpcore==1.*->httpx<0.26.0,>=0.25.2->ollama) (0.14.0)\n",
      "Note: you may need to restart the kernel to use updated packages.\n"
     ]
    }
   ],
   "source": [
    "pip install ollama"
   ]
  },
  {
   "cell_type": "code",
   "execution_count": 10,
   "metadata": {},
   "outputs": [
    {
     "name": "stdout",
     "output_type": "stream",
     "text": [
      "\n",
      "As a data scientist, Sarah had always been fascinated by the stories hidden within historical documents. She spent her days pouring over dusty tomes and old newspapers, looking for patterns and trends that could reveal something new and exciting about the past. But despite her best efforts, she had yet to make a truly groundbreaking discovery.\n",
      "\n",
      "That all changed one fateful day when Sarah stumbled upon an obscure historical document while browsing through a used bookstore. It was an old diary written by a long-forgotten traveler, detailing his journey through a remote and mysterious region of the world. Intrigued, Sarah decided to analyze the text using her advanced data analysis skills.\n",
      "\n",
      "As she delved deeper into the diary, Sarah began to notice something strange. The language used in the document was unlike anything she had ever seen before - it was as if the writer was speaking in code. Determined to uncover the secrets hidden within, Sarah spent hours poring over the text, looking for patterns and clues that could help her crack the code.\n",
      "\n",
      "Finally, after days of intense analysis, Sarah made a breakthrough. She discovered that the code was actually a series of complex mathematical equations, hidden within the text of the diary. Excited by her discovery, Sarah began to work on deciphering the equations, determined to uncover the secrets they held.\n",
      "\n",
      "As she worked, Sarah realized that the equations were pointing to a major historical event that had been largely overlooked by historians. It seemed that the writer of the diary had been a key player in the event, and his code was meant to protect the details of his involvement from prying eyes.\n",
      "\n",
      "Sarah's heart raced as she realized the magnitude of her discovery. She had uncovered a long-lost secret that could change the way we understand history forever. With the help of her colleagues, Sarah worked tirelessly to decipher the code and reveal the truth.\n",
      "\n",
      "Their efforts paid off, and soon the world was abuzz with news of Sarah's groundbreaking discovery. Historians and scholars from around the globe flocked to her work, praising her for uncovering a hidden chapter in history.\n",
      "\n",
      "Sarah's discovery had far-reaching implications, shedding new light on a previously misunderstood period of time. It was a testament to the power of data analysis and the incredible insights that could be gleaned from historical documents. And for Sarah, it was the culmination of a lifetime of passionate curiosity and dedication to her craft.\n",
      "\n",
      "From that day forward, Sarah was known as the go-to expert in her field, and her work continued to inspire new generations of data scientists and historians alike. She had uncovered a hidden secret, and in doing so, had changed the course of history forever.\n"
     ]
    }
   ],
   "source": [
    "import ollama\n",
    "\n",
    "response = ollama.chat(model='llama2', messages=[\n",
    "  {\n",
    "    'role': 'user',\n",
    "    'content': 'Create a fun short story about a data scientist that makes a huge discovery when analyzing historical documents',\n",
    "  },\n",
    "])\n",
    "print(response['message']['content'])"
   ]
  },
  {
   "cell_type": "code",
   "execution_count": 11,
   "metadata": {},
   "outputs": [],
   "source": [
    "inputs = [\n",
    "    \"John James agrees to pay $50/month to RJ Hampshire for work on the Farm\",\n",
    "    \"Elizabeth James will pay $30 per month to Levi Rodgers for Gardening\",\n",
    "    \"Johnson Ollaman will pay $1.25 per day to both John Smith and Jane Smith for teaching the children of the community\",\n",
    "    \"Claire Daniels charges $50 weekly to local community members for cooking classes, emphasizing the joy of healthy eating.\",\n",
    "    \"Marcus Wellby commits to donating $500 annually to the Green Earth Foundation for environmental conservation efforts.\",\n",
    "    \"Dr. Helena Russell charges $100 per hour for providing guidance and support to medical students, aiming to enhance their clinical skills and knowledge.\",\n",
    "    \"Keith Galli charges $0 to watch his YouTube content; the least you could do is smash that like button and subscribe, hehehe xD\",\n",
    "    \"The local sports club agrees to pay $75 each to coaches Sarah Miller, Danny Glover, Alex Reed, and Jamie Fox for conducting a weekend sports clinic.\",\n",
    "    \"\"\"This Agreement made this 14th day of August A.D. 1865, by and between F.R.J. Terry of the county of Copiah and State of Mississippi of the first part, and the person hereinafter named and undersigned, Freedmen of the second part [[?]] That for the purpose of working in the [[?]] known as Beagley's [[?]] Yard in the county aforesaid for two months commencing on the 14th day of August 1865 and terminating on the 14th day of October 1865. The said F.R.J. Terry party of the first part, in consideration of the [[?]] and conditions hereinafter mentioned on the part of the party of the second part agrees to pay said laborer \"10\" ten dollars per month and furnish free of charge clothing and good of good quality and sufficient quantity, good and sufficient quarters, and kind and humane treatment. And it is further agreed that in case the said F.R.J. Terry shall fail, neglect, or refuse to fulfill any of the obligations assumed by him, he shall besides the legal recourse left to the party aggrieved render this contract liable to amendment by the Provost Marshal of Freedmen. And it is agreed on the part of the party of second part that he will well and faithfully perform such labor as the said F.R.J. Terry may require of him for the time aforesaid, nor exceeding ten hours per day in summer and nine hours in winter. And in case the said laborer shall absent himself from or refuse to perform the labor herein promised, he shall loose the time and be punished as such manner as the Provost Marshal shall deem propper.\"\"\",\n",
    "]\n",
    "\n",
    "outputs = [\n",
    "    [{\"payer\": \"John James\", \"recipient\": \"RJ Hampshire\", \"amount\": 50, \"pay frequency\": \"monthly\", \"description\": \"farming\"}],\n",
    "    [{\"payer\": \"Elizabeth James\", \"recipient\": \"Levi Rodgers\", \"amount\": 30, \"pay frequency\": \"monthly\", \"description\": \"gardening\"}],\n",
    "    [{\"payer\": \"Johnson Ollaman\", \"recipient\": \"John Smith\", \"amount\": 1.25, \"pay frequency\": \"daily\", \"description\": \"teaching the children of the community\"}, {\"payer\": \"Johnson Ollaman\", \"recipient\": \"Jane Smith\", \"amount\": 1.25, \"pay frequency\": \"daily\", \"description\": \"teaching the children of the community\"}],\n",
    "    [{\"payer\": \"Claire Daniels\", \"recipient\": \"Local community members\", \"amount\": 50, \"pay frequency\": \"weekly\", \"description\": \"cooking classes\"}],\n",
    "    [{\"payer\": \"Marcus Wellby\", \"recipient\": \"Green Earth Foundation\", \"amount\": 500, \"pay frequency\": \"yearly\", \"description\": \"donation for environmental conservation\"}],\n",
    "    [{\"payer\": \"Dr. Helena Russell\", \"recipient\": \"Medical students\", \"amount\": 100, \"pay frequency\": \"hourly\", \"description\": \"mentorship and clinical skill enhancement\"}],\n",
    "    [{\"payer\": None, \"recipient\": \"Keith Galli\", \"amount\": 0, \"pay frequency\": None, \"description\": \"YouTube content\"}],\n",
    "    [{\"payer\": \"The local sports club\", \"recipient\": \"Sarah Miller\", \"amount\": 75, \"pay frequency\": \"one-time\", \"description\": \"weekend sports clinic\"},\n",
    "     {\"payer\": \"The local sports club\", \"recipient\": \"Danny Glover\", \"amount\": 75, \"pay frequency\": \"one-time\", \"description\": \"weekend sports clinic\"},\n",
    "     {\"payer\": \"The local sports club\", \"recipient\": \"Alex Reed\", \"amount\": 75, \"pay frequency\": \"one-time\", \"description\": \"weekend sports clinic\"},\n",
    "     {\"payer\": \"The local sports club\", \"recipient\": \"Jamie Fox\", \"amount\": 75, \"pay frequency\": \"one-time\", \"description\": \"weekend sports clinic\"}],\n",
    "    [{\"payer\": \"F.R.J. Terry\", \"payee\": \"Freedmen\", \"amount\":10, \"pay frequency\": \"monthly\", \"description\": \"working in the yard\"}],\n",
    "]"
   ]
  },
  {
   "cell_type": "code",
   "execution_count": 14,
   "metadata": {},
   "outputs": [
    {
     "name": "stdout",
     "output_type": "stream",
     "text": [
      "{\n",
      "  \"payer\": \"John James\",\n",
      "  \"recipient\": \"RJ Hampshire\",\n",
      "  \"amount\": 50, \n",
      "  \"frequency\": \"monthly\",\n",
      "  \"description\": \"work on the Farm\"\n",
      "}\n"
     ]
    }
   ],
   "source": [
    "# Create a custom message for OpenAI\n",
    "system_message = \"\"\"Grab the payer, recipient, amount, pay frequncy, and description from any sentence you're giving\"\n",
    "\n",
    "output the following JSON object\n",
    "{{\n",
    "  payer\": \"<name of payer>\",\n",
    "  \"recipient\": \"<name of recipient>\",\n",
    "  \"amount\": <amount in USD>, \n",
    "  \"frequency\": \"<frequency of payment>\", # can only be one from \"hourly\", \"daily\", \"weekly\", \"monthly\", \"yearly\", or \"other\"\n",
    "  \"description\": \"<what the payment was for>\"\n",
    "}}\n",
    "\"\"\"\n",
    "\n",
    "persed_output = client.chat.completions.create(\n",
    "  model=\"gpt-3.5-turbo\",\n",
    "  messages=[\n",
    "    {\"role\": \"system\", \"content\": system_message},\n",
    "    {\"role\": \"user\", \"content\": \"John James agrees to pay $50/month to RJ Hampshire for work on the Farm\"}\n",
    "  ]\n",
    ")\n",
    "\n",
    "print(persed_output.choices[0].message.content)\n"
   ]
  }
 ],
 "metadata": {
  "kernelspec": {
   "display_name": "base",
   "language": "python",
   "name": "python3"
  },
  "language_info": {
   "codemirror_mode": {
    "name": "ipython",
    "version": 3
   },
   "file_extension": ".py",
   "mimetype": "text/x-python",
   "name": "python",
   "nbconvert_exporter": "python",
   "pygments_lexer": "ipython3",
   "version": "3.11.7"
  }
 },
 "nbformat": 4,
 "nbformat_minor": 2
}
