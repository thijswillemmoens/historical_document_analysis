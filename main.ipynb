{
 "cells": [
  {
   "cell_type": "code",
   "execution_count": 3,
   "metadata": {},
   "outputs": [],
   "source": [
    "# Import libraries\n",
    "import numpy as np\n",
    "import pandas as pd\n",
    "import os"
   ]
  },
  {
   "cell_type": "code",
   "execution_count": 4,
   "metadata": {},
   "outputs": [],
   "source": [
    "\n",
    "# Set a path to the data\n",
    "path = 'data/'\n",
    "extension = '.csv'"
   ]
  },
  {
   "cell_type": "code",
   "execution_count": 7,
   "metadata": {},
   "outputs": [
    {
     "name": "stdout",
     "output_type": "stream",
     "text": [
      "['task3-merged-apprenticeship-agreements.csv', 'task2-apprenticeship-agreements.csv', 'task4-parsed-apprenticeship-agreements.csv', 'task2-apprenticeship-agreements-with-merge_id.csv', 'contract-records.csv', 'task2-apprenticeship-agreements-sample.csv', 'task4-parsed-small.csv']\n"
     ]
    }
   ],
   "source": [
    "# Create the files\n",
    "files = [file for file in os.listdir(path) if file.endswith(extension)]\n",
    "print(files)"
   ]
  },
  {
   "cell_type": "code",
   "execution_count": 11,
   "metadata": {},
   "outputs": [
    {
     "data": {
      "text/html": [
       "<div>\n",
       "<style scoped>\n",
       "    .dataframe tbody tr th:only-of-type {\n",
       "        vertical-align: middle;\n",
       "    }\n",
       "\n",
       "    .dataframe tbody tr th {\n",
       "        vertical-align: top;\n",
       "    }\n",
       "\n",
       "    .dataframe thead th {\n",
       "        text-align: right;\n",
       "    }\n",
       "</style>\n",
       "<table border=\"1\" class=\"dataframe\">\n",
       "  <thead>\n",
       "    <tr style=\"text-align: right;\">\n",
       "      <th></th>\n",
       "      <th>project_id</th>\n",
       "      <th>category</th>\n",
       "      <th>sub_category</th>\n",
       "      <th>transcription_text</th>\n",
       "      <th>document_url</th>\n",
       "    </tr>\n",
       "  </thead>\n",
       "  <tbody>\n",
       "    <tr>\n",
       "      <th>0</th>\n",
       "      <td>11406</td>\n",
       "      <td>Contracts</td>\n",
       "      <td>Apprenticeship Agreement</td>\n",
       "      <td>Copy_x000D_\\n_x000D_\\nAgreement of Apprentices...</td>\n",
       "      <td>https://transcription.si.edu/transcribe/11406/...</td>\n",
       "    </tr>\n",
       "    <tr>\n",
       "      <th>1</th>\n",
       "      <td>11406</td>\n",
       "      <td>Contracts</td>\n",
       "      <td>Apprenticeship Agreement</td>\n",
       "      <td>[H 132 ENCL] _x000D_\\n_x000D_\\nCopy_x000D_\\n_x...</td>\n",
       "      <td>https://transcription.si.edu/transcribe/11406/...</td>\n",
       "    </tr>\n",
       "    <tr>\n",
       "      <th>2</th>\n",
       "      <td>11406</td>\n",
       "      <td>Contracts</td>\n",
       "      <td>Apprenticeship Agreement</td>\n",
       "      <td>is agreed on the part of the party of the firs...</td>\n",
       "      <td>https://transcription.si.edu/transcribe/11406/...</td>\n",
       "    </tr>\n",
       "    <tr>\n",
       "      <th>3</th>\n",
       "      <td>11406</td>\n",
       "      <td>Contracts</td>\n",
       "      <td>Apprenticeship Agreement</td>\n",
       "      <td>continuance of this agreement &amp; finally that t...</td>\n",
       "      <td>https://transcription.si.edu/transcribe/11406/...</td>\n",
       "    </tr>\n",
       "    <tr>\n",
       "      <th>4</th>\n",
       "      <td>15369</td>\n",
       "      <td>Contracts</td>\n",
       "      <td>Apprenticeship Agreement</td>\n",
       "      <td>[[preprinted]]_x000D_\\nBureau of Refugees, Fre...</td>\n",
       "      <td>https://transcription.si.edu/transcribe/15369/...</td>\n",
       "    </tr>\n",
       "  </tbody>\n",
       "</table>\n",
       "</div>"
      ],
      "text/plain": [
       "   project_id   category              sub_category  \\\n",
       "0       11406  Contracts  Apprenticeship Agreement   \n",
       "1       11406  Contracts  Apprenticeship Agreement   \n",
       "2       11406  Contracts  Apprenticeship Agreement   \n",
       "3       11406  Contracts  Apprenticeship Agreement   \n",
       "4       15369  Contracts  Apprenticeship Agreement   \n",
       "\n",
       "                                  transcription_text  \\\n",
       "0  Copy_x000D_\\n_x000D_\\nAgreement of Apprentices...   \n",
       "1  [H 132 ENCL] _x000D_\\n_x000D_\\nCopy_x000D_\\n_x...   \n",
       "2  is agreed on the part of the party of the firs...   \n",
       "3  continuance of this agreement & finally that t...   \n",
       "4  [[preprinted]]_x000D_\\nBureau of Refugees, Fre...   \n",
       "\n",
       "                                        document_url  \n",
       "0  https://transcription.si.edu/transcribe/11406/...  \n",
       "1  https://transcription.si.edu/transcribe/11406/...  \n",
       "2  https://transcription.si.edu/transcribe/11406/...  \n",
       "3  https://transcription.si.edu/transcribe/11406/...  \n",
       "4  https://transcription.si.edu/transcribe/15369/...  "
      ]
     },
     "execution_count": 11,
     "metadata": {},
     "output_type": "execute_result"
    }
   ],
   "source": [
    "df = pd.read_csv(path + files[4]) #'contract-records.csv'\n",
    "df.head()"
   ]
  }
 ],
 "metadata": {
  "kernelspec": {
   "display_name": "base",
   "language": "python",
   "name": "python3"
  },
  "language_info": {
   "codemirror_mode": {
    "name": "ipython",
    "version": 3
   },
   "file_extension": ".py",
   "mimetype": "text/x-python",
   "name": "python",
   "nbconvert_exporter": "python",
   "pygments_lexer": "ipython3",
   "version": "3.11.7"
  }
 },
 "nbformat": 4,
 "nbformat_minor": 2
}
